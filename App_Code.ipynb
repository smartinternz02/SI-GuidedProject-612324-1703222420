{
 "cells": [
  {
   "cell_type": "code",
   "execution_count": 1,
   "id": "d26ad8a3",
   "metadata": {},
   "outputs": [
    {
     "data": {
      "text/plain": [
       "<AddedDllDirectory('D:\\\\programming languages\\\\anaconda\\\\Lib\\\\site-packages\\\\clidriver\\\\bin')>"
      ]
     },
     "execution_count": 1,
     "metadata": {},
     "output_type": "execute_result"
    }
   ],
   "source": [
    "import os\n",
    "os.add_dll_directory(r\"D:\\programming languages\\anaconda\\Lib\\site-packages\\clidriver\\bin\") "
   ]
  },
  {
   "cell_type": "code",
   "execution_count": 2,
   "id": "268847c0",
   "metadata": {},
   "outputs": [],
   "source": [
    "from flask import Flask, render_template, request, session\n",
    "import cv2\n",
    "import pickle\n",
    "import cvzone\n",
    "import numpy as np\n",
    "import re\n",
    "import ibm_db"
   ]
  },
  {
   "cell_type": "code",
   "execution_count": 3,
   "id": "bf46ec6c",
   "metadata": {},
   "outputs": [],
   "source": [
    "app = Flask(__name__)"
   ]
  },
  {
   "cell_type": "code",
   "execution_count": 4,
   "id": "228efca8",
   "metadata": {
    "scrolled": true
   },
   "outputs": [
    {
     "name": "stdout",
     "output_type": "stream",
     "text": [
      "connected\n"
     ]
    }
   ],
   "source": [
    "ibm_db.connect(\"DATABASE=vali1;HOSTNAME=localhost;PORT=25000;PROTOCOL=TCPIP;UID=Mansoor;PWD=mansoor@31;\", \"\", \"\")\n",
    "print(\"connected\")"
   ]
  },
  {
   "cell_type": "code",
   "execution_count": 5,
   "id": "c60e857a",
   "metadata": {},
   "outputs": [],
   "source": [
    "@app.route('/')\n",
    "def project():\n",
    "       return render_template('Login.html')\n",
    "    \n",
    "@app.route('/login')\n",
    "def login():\n",
    "       return render_template('Login.html')\n",
    "    \n",
    "@app.route('/signup')\n",
    "def signup():\n",
    "       return render_template('Signup.html')\n",
    "    \n",
    "@app.route('/index') \n",
    "def index():\n",
    "    return render_template('Index.html')\n",
    "\n",
    "@app.route('/model')\n",
    "def model():\n",
    "       return render_template('Model.html')"
   ]
  },
  {
   "cell_type": "code",
   "execution_count": 6,
   "id": "5b5158b6",
   "metadata": {},
   "outputs": [],
   "source": [
    "\n",
    "def signup():\n",
    "    msg = ' '\n",
    "    if request.method == 'POST':\n",
    "        username= request.form[\"username\"]\n",
    "        email = request.form[\"email\"]\n",
    "        password = request.form[\"password\"]\n",
    "        confirm_password = request.form[\"confirm_password\"]\n",
    "        sql = \"SELECT * FROM REGISTER WHERE name = ?\"\n",
    "        stmt = ibm_db.prepare(conn, sql) \n",
    "        ibm_db.bind_param(stmt, 1, username)\n",
    "        ibm_db.execute(stmt)\n",
    "        account = ibm_db.fetch_assoc(stmt) \n",
    "        print (account)\n",
    "        if account:\n",
    "            return render_template('Login.html', error=True) \n",
    "        elif not re.match(r'[^@]+@[^@]+\\.[^@]+', email): \n",
    "            msg = \"Invalid Email Address!\"\n",
    "        else:\n",
    "            insert_sql = \"INSERT INTO REGISTER VALUES (?,?,?)\"\n",
    "            prep_stmt = ibm_db.prepare(conn, insert_sql)\n",
    "            # this username & password should be same as db-2 details & order also\n",
    "            ibm_db.bind_param(prep_stmt, 1, username)\n",
    "            ibm_db.bind_param(prep_stmt, 2, email) \n",
    "            ibm_db.bind_param(prep_stmt, 3, password) \n",
    "            ibm_db.bind_param(prep_stmt, 4, confirm_password) \n",
    "            ibm_db.execute(prep_stmt)\n",
    "            msg = \"You have successfully registered !\" \n",
    "            return render_template('Login.html', msg=msg)"
   ]
  },
  {
   "cell_type": "code",
   "execution_count": 7,
   "id": "e6b99068",
   "metadata": {},
   "outputs": [],
   "source": [
    "@app.route(\"/log\", methods=['POST', 'GET'])\n",
    "def login1():\n",
    "    if request.method == \"POST\":\n",
    "        username = request.form[\"username\"]\n",
    "        password = request.form[\"password\"]\n",
    "        sql = \"SELECT * FROM REGISTER WHERE EMAIL=? AND PASSWORD=?\" # from db2 sql table \n",
    "        stmt = ibm_db.prepare(conn, sql)\n",
    "        # this username & password should be same as db-2 details & order also\n",
    "        ibm_db.bind_param(stmt, 1, username)\n",
    "        ibm_db.bind_param(stmt, 2, password)\n",
    "        ibm_db.execute(stmt)\n",
    "        account = ibm_db.fetch_assoc(stmt)\n",
    "        print (account)\n",
    "        if account:\n",
    "            session['Loggedin'] = True\n",
    "            session['id'] = account['USERNAME']\n",
    "            session['username'] = account['USERNAME'] \n",
    "            return render_template('Index.html')\n",
    "        else:\n",
    "            msg = \"Incorrect username/password\"\n",
    "            return render_template('Login.html', msg=msg)\n",
    "    else:\n",
    "            return render_template('Login.html')"
   ]
  },
  {
   "cell_type": "code",
   "execution_count": 8,
   "id": "b3436e47",
   "metadata": {},
   "outputs": [
    {
     "name": "stderr",
     "output_type": "stream",
     "text": [
      "<>:23: SyntaxWarning: 'str' object is not callable; perhaps you missed a comma?\n",
      "<>:23: SyntaxWarning: 'str' object is not callable; perhaps you missed a comma?\n",
      "C:\\Users\\Mansoorvali\\AppData\\Local\\Temp\\ipykernel_16024\\1799227076.py:23: SyntaxWarning: 'str' object is not callable; perhaps you missed a comma?\n",
      "  cvzone.putTextRect(img, f'Free: {spaceCounter}/{len(posList)}' (100, 50), scale=3, thickness=5, offset=20, colorR=(0, 200, 0))\n"
     ]
    }
   ],
   "source": [
    "\n",
    "@app.route('/predict_live') \n",
    "def liv_pred():\n",
    "    # Video feed\n",
    "    cap = cv2.VideoCapture(\"D:\\programs\\Python programs\\smart internz\\AI car Parking\\flask\\carParkingInput.mp4\") \n",
    "    with open('parkingSlotPosition', 'rb') as f: \n",
    "         posList = pickle.load(f)\n",
    "    width, height = 107, 48\n",
    "    def checkParkingSpace (imgPro):\n",
    "        spaceCounter = 0\n",
    "        for pos in posList:\n",
    "            x, y = pos\n",
    "            imgCrop = imgPro[y:y + height, x:x + width]\n",
    "            # cv2.imshow(str(x * y), imgCrop)\n",
    "            count = cv2.count_NonZero (imgCrop)\n",
    "            if count < 900:\n",
    "                color = (0, 255, 0)\n",
    "                thickness = 5\n",
    "                spaceCounter += 1\n",
    "            else:\n",
    "                color = (0, 255, 0)\n",
    "                thickness = 2\n",
    "            cv2.rectangle(img, pos, (pos[0] + width, pos[1] + height), color, thickness)\n",
    "            cvzone.putTextRect(img, f'Free: {spaceCounter}/{len(posList)}' (100, 50), scale=3, thickness=5, offset=20, colorR=(0, 200, 0))\n",
    "    while True:\n",
    "         if cap.get(cv2.CAP_PROP_POS_FRAMES) == cap.get(cv2.CAP_PROP_FRAME_COUNT):\n",
    "            cap.set(cv2.CAP_PROP_POS_FRAMES, 0)\n",
    "            success, img = cap.read()\n",
    "            imgGray = cv2.cvtColor(img, cv2.COLOR_BGR2GRAY)\n",
    "            imgBlur = cv2.GaussianBlur (imgGray, (3, 3), 1)\n",
    "            imgThreshold = cv2.adaptiveThreshold(imgBlur, 255, cv2.ADAPTIVE_THRESH_GAUSSIAN_C, cv2.THRESH_BINARY_INV, 25, 16)\n",
    "            imgMedian = cv2.medianBlur (imgThreshold, 5)\n",
    "            kernel = np.ones((3, 3), np.uint8)\n",
    "            imgDilate = cv2.dilate(imgMedian, kernel, iterations=1)\n",
    "            checkParkingSpace (imgDilate)  \n",
    "            cv2.imshow(\"Image\", img)\n",
    "            # cv2.imshow(\"ImageBlur\", imgBlur)\n",
    "            # cv2.imshow(\"ImageThres\", imgMedian) \n",
    "            if cv2.waitKey(1) & 0xFF== ord('q'):\n",
    "                break"
   ]
  },
  {
   "cell_type": "code",
   "execution_count": 9,
   "id": "e86d18ad",
   "metadata": {},
   "outputs": [
    {
     "name": "stdout",
     "output_type": "stream",
     "text": [
      " * Serving Flask app '__main__'\n",
      " * Debug mode: on\n"
     ]
    },
    {
     "name": "stderr",
     "output_type": "stream",
     "text": [
      "WARNING: This is a development server. Do not use it in a production deployment. Use a production WSGI server instead.\n",
      " * Running on http://127.0.0.1:5000\n",
      "Press CTRL+C to quit\n",
      " * Restarting with watchdog (windowsapi)\n"
     ]
    },
    {
     "ename": "SystemExit",
     "evalue": "1",
     "output_type": "error",
     "traceback": [
      "An exception has occurred, use %tb to see the full traceback.\n",
      "\u001b[1;31mSystemExit\u001b[0m\u001b[1;31m:\u001b[0m 1\n"
     ]
    },
    {
     "name": "stderr",
     "output_type": "stream",
     "text": [
      "D:\\programming languages\\anaconda\\Lib\\site-packages\\IPython\\core\\interactiveshell.py:3534: UserWarning: To exit: use 'exit', 'quit', or Ctrl-D.\n",
      "  warn(\"To exit: use 'exit', 'quit', or Ctrl-D.\", stacklevel=1)\n"
     ]
    }
   ],
   "source": [
    "if __name__==\"__main__\":\n",
    "      app.run(debug=True)"
   ]
  },
  {
   "cell_type": "code",
   "execution_count": null,
   "id": "f918a367",
   "metadata": {},
   "outputs": [],
   "source": []
  }
 ],
 "metadata": {
  "kernelspec": {
   "display_name": "Python 3 (ipykernel)",
   "language": "python",
   "name": "python3"
  },
  "language_info": {
   "codemirror_mode": {
    "name": "ipython",
    "version": 3
   },
   "file_extension": ".py",
   "mimetype": "text/x-python",
   "name": "python",
   "nbconvert_exporter": "python",
   "pygments_lexer": "ipython3",
   "version": "3.11.4"
  }
 },
 "nbformat": 4,
 "nbformat_minor": 5
}
